{
  "nbformat": 4,
  "nbformat_minor": 0,
  "metadata": {
    "colab": {
      "name": "Untitled0.ipynb",
      "provenance": [],
      "authorship_tag": "ABX9TyMsyK8r6wdGiJc/bzXQM0sp",
      "include_colab_link": true
    },
    "kernelspec": {
      "name": "python3",
      "display_name": "Python 3"
    },
    "accelerator": "GPU"
  },
  "cells": [
    {
      "cell_type": "markdown",
      "metadata": {
        "id": "view-in-github",
        "colab_type": "text"
      },
      "source": [
        "<a href=\"https://colab.research.google.com/github/marang-khu/machine_learning_examples/blob/master/Untitled0.ipynb\" target=\"_parent\"><img src=\"https://colab.research.google.com/assets/colab-badge.svg\" alt=\"Open In Colab\"/></a>"
      ]
    },
    {
      "cell_type": "code",
      "metadata": {
        "id": "NPhAD_YST3eG",
        "colab_type": "code",
        "colab": {}
      },
      "source": [
        "import pandas as pd\n",
        "file = pd.read_excel('KKBOX.xlsx')"
      ],
      "execution_count": 0,
      "outputs": []
    },
    {
      "cell_type": "code",
      "metadata": {
        "id": "IFC9H8BlUO9_",
        "colab_type": "code",
        "colab": {}
      },
      "source": [
        "file.to_csv('new.csv')"
      ],
      "execution_count": 0,
      "outputs": []
    },
    {
      "cell_type": "code",
      "metadata": {
        "id": "ga51E_AAUpy1",
        "colab_type": "code",
        "colab": {}
      },
      "source": [
        "file2 = pd.read_csv('new.csv')"
      ],
      "execution_count": 0,
      "outputs": []
    },
    {
      "cell_type": "code",
      "metadata": {
        "id": "Gh6E1GTjU2MK",
        "colab_type": "code",
        "colab": {}
      },
      "source": [
        "line = file2.head()"
      ],
      "execution_count": 0,
      "outputs": []
    },
    {
      "cell_type": "code",
      "metadata": {
        "id": "61_ZLzjCXVPN",
        "colab_type": "code",
        "outputId": "e314ca24-16b0-405d-a136-b69e6b715e8b",
        "colab": {
          "base_uri": "https://localhost:8080/",
          "height": 306
        }
      },
      "source": [
        "line"
      ],
      "execution_count": 0,
      "outputs": [
        {
          "output_type": "execute_result",
          "data": {
            "text/html": [
              "<div>\n",
              "<style scoped>\n",
              "    .dataframe tbody tr th:only-of-type {\n",
              "        vertical-align: middle;\n",
              "    }\n",
              "\n",
              "    .dataframe tbody tr th {\n",
              "        vertical-align: top;\n",
              "    }\n",
              "\n",
              "    .dataframe thead th {\n",
              "        text-align: right;\n",
              "    }\n",
              "</style>\n",
              "<table border=\"1\" class=\"dataframe\">\n",
              "  <thead>\n",
              "    <tr style=\"text-align: right;\">\n",
              "      <th></th>\n",
              "      <th>Unnamed: 0</th>\n",
              "      <th>no.</th>\n",
              "      <th>S29_漢字</th>\n",
              "      <th>S29_羅馬字</th>\n",
              "      <th>S29_漢字.1</th>\n",
              "      <th>S29_羅馬字.1</th>\n",
              "      <th>S29_漢字.2</th>\n",
              "      <th>S29_羅馬字.2</th>\n",
              "      <th>修正</th>\n",
              "    </tr>\n",
              "  </thead>\n",
              "  <tbody>\n",
              "    <tr>\n",
              "      <th>0</th>\n",
              "      <td>0</td>\n",
              "      <td>1</td>\n",
              "      <td>永遠</td>\n",
              "      <td>ing2 uan2</td>\n",
              "      <td>明明</td>\n",
              "      <td>bing5 bing5</td>\n",
              "      <td>老瓦厝</td>\n",
              "      <td>lau7 hia7 tshu3</td>\n",
              "      <td>NaN</td>\n",
              "    </tr>\n",
              "    <tr>\n",
              "      <th>1</th>\n",
              "      <td>1</td>\n",
              "      <td>2</td>\n",
              "      <td>今生</td>\n",
              "      <td>kim1 sing1</td>\n",
              "      <td>放袂記</td>\n",
              "      <td>pang3 be7 ki3</td>\n",
              "      <td>老爸</td>\n",
              "      <td>lau7 pe7</td>\n",
              "      <td>NaN</td>\n",
              "    </tr>\n",
              "    <tr>\n",
              "      <th>2</th>\n",
              "      <td>2</td>\n",
              "      <td>3</td>\n",
              "      <td>紅塵</td>\n",
              "      <td>hong5 tin5</td>\n",
              "      <td>放袂落心</td>\n",
              "      <td>pang3 be7 loh8 sim1</td>\n",
              "      <td>老朋友</td>\n",
              "      <td>lau7 ping5 iu2</td>\n",
              "      <td>NaN</td>\n",
              "    </tr>\n",
              "    <tr>\n",
              "      <th>3</th>\n",
              "      <td>3</td>\n",
              "      <td>4</td>\n",
              "      <td>最愛</td>\n",
              "      <td>tsue3 ai3</td>\n",
              "      <td>放袂落</td>\n",
              "      <td>pang3 be7 loh8</td>\n",
              "      <td>美國人</td>\n",
              "      <td>bi2 kok4 lang5</td>\n",
              "      <td>NaN</td>\n",
              "    </tr>\n",
              "    <tr>\n",
              "      <th>4</th>\n",
              "      <td>4</td>\n",
              "      <td>5</td>\n",
              "      <td>寂寞</td>\n",
              "      <td>siok8 bok8</td>\n",
              "      <td>戰神</td>\n",
              "      <td>tsian3 sin5</td>\n",
              "      <td>傷痕 纍纍</td>\n",
              "      <td>siong1 hun5 lui2 lui2</td>\n",
              "      <td>NaN</td>\n",
              "    </tr>\n",
              "  </tbody>\n",
              "</table>\n",
              "</div>"
            ],
            "text/plain": [
              "   Unnamed: 0  no. S29_漢字  ... S29_漢字.2              S29_羅馬字.2  修正\n",
              "0           0    1     永遠  ...      老瓦厝        lau7 hia7 tshu3 NaN\n",
              "1           1    2     今生  ...       老爸               lau7 pe7 NaN\n",
              "2           2    3     紅塵  ...      老朋友         lau7 ping5 iu2 NaN\n",
              "3           3    4     最愛  ...      美國人         bi2 kok4 lang5 NaN\n",
              "4           4    5     寂寞  ...    傷痕 纍纍  siong1 hun5 lui2 lui2 NaN\n",
              "\n",
              "[5 rows x 9 columns]"
            ]
          },
          "metadata": {
            "tags": []
          },
          "execution_count": 36
        }
      ]
    },
    {
      "cell_type": "code",
      "metadata": {
        "id": "BQIauiPnaDs8",
        "colab_type": "code",
        "outputId": "35861a82-b432-40e6-f9c9-ec9f4c6ccd86",
        "colab": {
          "base_uri": "https://localhost:8080/",
          "height": 34
        }
      },
      "source": [
        "line.iloc[0,2]"
      ],
      "execution_count": 0,
      "outputs": [
        {
          "output_type": "execute_result",
          "data": {
            "text/plain": [
              "'永遠'"
            ]
          },
          "metadata": {
            "tags": []
          },
          "execution_count": 43
        }
      ]
    }
  ]
}